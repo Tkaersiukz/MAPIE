{
 "cells": [
  {
   "cell_type": "code",
   "execution_count": 1,
   "id": "d4595769-7300-44d1-8850-c269ebf72fde",
   "metadata": {},
   "outputs": [],
   "source": [
    "import sys\n",
    "sys.path.append(\"/Users/tmorzadec/Missions/MAPIE\")\n",
    "import numpy as np\n",
    "from mapie.utils import masked_quantile\n",
    "from mapie.regression import MapieRegressor\n",
    "from sklearn.datasets import make_regression\n",
    "import numpy.ma as ma\n",
    "from pycallgraph2 import PyCallGraph, Config\n",
    "from pycallgraph2.output import GraphvizOutput\n",
    "from functools import lru_cache\n",
    "import callgraph.decorator as callgraph\n",
    "%load_ext autoreload\n",
    "%autoreload 2"
   ]
  },
  {
   "cell_type": "code",
   "execution_count": 6,
   "id": "4e824af9-8e84-4b89-b6de-e983a168c02f",
   "metadata": {},
   "outputs": [],
   "source": [
    "X = np.random.uniform(low=-100, high=100, size = int(1e8)).reshape(int(1e4), -1)\n",
    "\n",
    "# indices1 = np.random.choice(X.shape[0], size=1, replace=True)\n",
    "# indices2 = np.random.choice(X.shape[1], size=1, replace=True)\n",
    "# indices = zip(indices1, indices2)\n",
    "\n",
    "# for (x, y) in indices:\n",
    "#     X[x,y] = np.nan\n",
    "#                      "
   ]
  },
  {
   "cell_type": "code",
   "execution_count": 3,
   "id": "ea9ba9ba-3dcf-43f0-9425-91437fd6f000",
   "metadata": {},
   "outputs": [
    {
     "name": "stdout",
     "output_type": "stream",
     "text": [
      "(1000, 10000)\n"
     ]
    }
   ],
   "source": [
    "q = list(np.linspace(0.1, 0.9, 1000))\n",
    "print(X.shape)"
   ]
  },
  {
   "cell_type": "code",
   "execution_count": 4,
   "id": "f90f220e-cc20-40cc-a33c-566470b61856",
   "metadata": {},
   "outputs": [],
   "source": [
    "@callgraph()\n",
    "@lru_cache()\n",
    "def mask():\n",
    "    masked_quantile(ma.masked_invalid(X), q, axis=0, method=\"higher\")"
   ]
  },
  {
   "cell_type": "code",
   "execution_count": null,
   "id": "29592f5d",
   "metadata": {},
   "outputs": [],
   "source": [
    "%timeit -n 1 -r 1 masked_quantile(ma.masked_invalid(X), q, axis=0, method=\"higher\")"
   ]
  },
  {
   "cell_type": "code",
   "execution_count": 9,
   "id": "843ab182-fd23-40f9-a569-647b1a2ad165",
   "metadata": {},
   "outputs": [
    {
     "name": "stdout",
     "output_type": "stream",
     "text": [
      "7.48 s ± 401 ms per loop (mean ± std. dev. of 7 runs, 1 loop each)\n"
     ]
    }
   ],
   "source": [
    "%timeit np.nanquantile(X, q, axis=0, interpolation=\"higher\")"
   ]
  },
  {
   "cell_type": "code",
   "execution_count": 10,
   "id": "260ba3a6",
   "metadata": {},
   "outputs": [
    {
     "name": "stdout",
     "output_type": "stream",
     "text": [
      "7.35 s ± 502 ms per loop (mean ± std. dev. of 7 runs, 1 loop each)\n"
     ]
    }
   ],
   "source": [
    "%timeit np.quantile(X, q, axis=0, interpolation=\"higher\")"
   ]
  },
  {
   "cell_type": "code",
   "execution_count": 10,
   "id": "5349359a",
   "metadata": {},
   "outputs": [],
   "source": [
    "config = Config(max_depth=10)\n",
    "with PyCallGraph(output=GraphvizOutput(), config=config):\n",
    "    masked_quantile(ma.masked_invalid(X), q, axis=0, method=\"higher\")\n"
   ]
  },
  {
   "cell_type": "code",
   "execution_count": null,
   "id": "2acbef74-3f03-457a-b31e-a5dad75d70c4",
   "metadata": {},
   "outputs": [
    {
     "name": "stdout",
     "output_type": "stream",
     "text": [
      "2\n",
      "500\n",
      "(1, 500)\n",
      "2\n",
      "500\n",
      "(1, 500)\n",
      "2\n",
      "500\n",
      "(1, 500)\n",
      "2\n",
      "500\n",
      "(1, 500)\n",
      "[-118.90258408  209.02916237  -22.18296168  234.40885886 -159.61745268\n",
      " -184.84111207   26.85546511  -19.12965127 -162.97950999  -53.36413493]\n",
      "(1, 2, 1000)\n"
     ]
    }
   ],
   "source": [
    "mapie_reg = MapieRegressor(method=\"minmax\", agg_function=\"mean\", cv=-1)\n",
    "alpha = [0.2, 0.8]\n",
    "mapie_reg.fit(X, y)\n",
    "#y_pred_float1, y_pis_float1 = mapie_reg.predict(X, alpha=alpha[0])\n",
    "#y_pred_float2, y_pis_float2 = mapie_reg.predict(X, alpha=alpha[1])\n",
    "y_pred_array, y_pis_array = mapie_reg.predict(X, alpha=alpha)\n",
    "#print(y_pis_float1[0,1,:10])\n",
    "#print(y_pis_float2[0,1,:10])\n",
    "print(y_pis_array[0,1,:10])\n",
    "print(y_pis_array.shape)"
   ]
  },
  {
   "cell_type": "code",
   "execution_count": null,
   "id": "9f82a3d9-cacc-42c6-9350-0709811a0af9",
   "metadata": {},
   "outputs": [
    {
     "data": {
      "text/plain": [
       "array([-0.44901419, -0.31701145,  0.03759213, -1.03072401,  0.32107287,\n",
       "        0.73329445, -0.16373546, -0.58167561,  0.24257418, -0.40065236])"
      ]
     },
     "execution_count": 106,
     "metadata": {},
     "output_type": "execute_result"
    }
   ],
   "source": [
    "\n",
    "X[0,:].flatten()"
   ]
  },
  {
   "cell_type": "code",
   "execution_count": null,
   "id": "d03bf675-6fd1-4407-ae2d-0937c2e46df9",
   "metadata": {},
   "outputs": [],
   "source": []
  }
 ],
 "metadata": {
  "interpreter": {
   "hash": "e1d6b69c58a8ab3fab9d4bd10bf376ef86c3438c956e9d4e062e4cc32a9f8bce"
  },
  "kernelspec": {
   "display_name": "Python 3",
   "language": "python",
   "name": "python3"
  },
  "language_info": {
   "codemirror_mode": {
    "name": "ipython",
    "version": 3
   },
   "file_extension": ".py",
   "mimetype": "text/x-python",
   "name": "python",
   "nbconvert_exporter": "python",
   "pygments_lexer": "ipython3",
   "version": "3.7.12"
  }
 },
 "nbformat": 4,
 "nbformat_minor": 5
}
